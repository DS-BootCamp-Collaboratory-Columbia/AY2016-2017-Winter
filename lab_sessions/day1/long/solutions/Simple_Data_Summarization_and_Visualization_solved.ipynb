{
 "cells": [
  {
   "cell_type": "markdown",
   "metadata": {},
   "source": [
    "# Getting to Know Your Collection"
   ]
  },
  {
   "cell_type": "markdown",
   "metadata": {
    "collapsed": true
   },
   "source": [
    "In this lab session we are going to learn and implement approaches that would help us better analyze and explore different data sets. We will also learn how graphics could be used as powerfull tools to learn about the data you are working with. We'll use three datasets, two of which will be obtained from the NYC Open Data project. We'll cover simple statistical measures such as mean, median, standard deviation, variance and quantiles and various plot types such as scatter plot, histograms and boxplot. "
   ]
  },
  {
   "cell_type": "markdown",
   "metadata": {},
   "source": [
    "## Datasets ##"
   ]
  },
  {
   "cell_type": "markdown",
   "metadata": {
    "collapsed": true
   },
   "source": [
    "Our three datasets come from different sources.  The first dataset is actually a collection of datasets aggregated from various online resources. It contains the results from the 2016 presidential election along with state level census data on the average household income and the number of participants in the food stamp program. Our other two datasets come from the NYC Open Data project. \n",
    "1.  2016 Presidential Election \n",
    "Manually constructed using various online resources. \n",
    "2. Street Tree Census Data  \n",
    "https://data.cityofnewyork.us/Environment/2015-Street-Tree-Census-Tree-Data/uvpi-gqnh  \n",
    "3. NYPD Motor Vehicle Collision Data  \n",
    "https://nycopendata.socrata.com/Public-Safety/NYPD-Motor-Vehicle-Collisions/h9gi-nx95\n",
    "\n"
   ]
  },
  {
   "cell_type": "markdown",
   "metadata": {},
   "source": [
    " # 1. 2016 Presidential Election Results #"
   ]
  },
  {
   "cell_type": "markdown",
   "metadata": {},
   "source": [
    "For our first dataset we'll be using 4 different types of data statistics computed across the 51 states. They include:\n",
    "1. 2016 Presidential election results\n",
    "2. 2015 Median annual hosehold income\n",
    "3. 2015 Monthly average number of person participating in the the food stamp program  \n",
    "\n",
    "Across the states we'll try to analyze the relationship between (1) the presidential election results, (2) the household income and (3) the number of participants in the food stamp program. \n"
   ]
  },
  {
   "cell_type": "markdown",
   "metadata": {},
   "source": [
    "Let's first read the data files and load the data into Python data objects using Pandas:  \n",
    "http://pandas.pydata.org"
   ]
  },
  {
   "cell_type": "code",
   "execution_count": null,
   "metadata": {
    "collapsed": true
   },
   "outputs": [],
   "source": [
    "import numpy as np\n",
    "import pandas as pd\n",
    "import matplotlib.pyplot as plt\n",
    "plt.style.use('ggplot')\n",
    "elec_data = pd.read_csv('./2016_election_data/2016_presidential_election_results.tsv', delimiter='\\t')\n",
    "fs_data = pd.read_csv('./2016_election_data/2015_monthly_average_of_person_participating_in_food_stamp_program.tsv', delimiter='\\t')\n",
    "income_data = pd.read_csv('./2016_election_data/2015_median_annual_hosehold_income.tsv', delimiter='\\t')\n",
    "\n"
   ]
  },
  {
   "cell_type": "markdown",
   "metadata": {
    "collapsed": false
   },
   "source": [
    "We'll also load two auxilary collections that will help us obtain better statistics and will also help us to better visualize the data. They are:\n",
    "4. 2015 Population across states\n",
    "5. State Abbreviations"
   ]
  },
  {
   "cell_type": "code",
   "execution_count": null,
   "metadata": {
    "collapsed": true
   },
   "outputs": [],
   "source": [
    "sa = pd.read_csv('./2016_election_data/state_abbreviations.tsv', delimiter='\\t')\n",
    "census_data = pd.read_csv('./2016_election_data/population_by_state.tsv', delimiter='\\t')"
   ]
  },
  {
   "cell_type": "markdown",
   "metadata": {},
   "source": [
    "Let's do analysis similar to the ones done by Prof. Andrew Gelman in his book \"Red State, Blue State, Rich State, Poor State: Why American Vote the Way They Do\". One of the questions explored in this book is why is it that rich states vote for candidates on the left while the poor states in the south vote for candidates on the right.        "
   ]
  },
  {
   "cell_type": "markdown",
   "metadata": {},
   "source": [
    "We'll first look into the state level number of votes that the Republican and Democratic candidates won and the number of participants in the food stamp program for that state. To better plot the data we'll convert the appropriate panda dataframes into numpy arrays."
   ]
  },
  {
   "cell_type": "code",
   "execution_count": null,
   "metadata": {
    "collapsed": false
   },
   "outputs": [],
   "source": [
    "income = np.asarray(income_data['Median_Income'])\n",
    "fs = np.asarray(fs_data['Participation'])\n",
    "c = np.asarray(elec_data['Clinton'])\n",
    "t = np.asarray(elec_data['Trump'])\n",
    "state = np.asarray(sa['Abbreviation'])"
   ]
  },
  {
   "cell_type": "markdown",
   "metadata": {},
   "source": [
    "Let's first look at the number of votes for Hillary Clinton across states and the average number of participants in the food stamp program."
   ]
  },
  {
   "cell_type": "code",
   "execution_count": null,
   "metadata": {
    "collapsed": false
   },
   "outputs": [],
   "source": [
    "plt.rcParams['figure.figsize'] = (10,10)\n",
    "%matplotlib notebook\n",
    "fig = plt.figure()\n",
    "ax = fig.add_subplot(111)\n",
    "plt.scatter(fs,c,color=\"blue\")\n",
    "for i,j,k in zip(fs,c,state):\n",
    "    ax.annotate('%s' %k, xy=(i,j), fontsize=15,color='black')\n",
    "\n",
    "ax.set_xlim(left=0)\n",
    "ax.set_ylim(bottom=0)\n",
    "ax.set_title('Food Stamp Program Participation vs. Hillary Clinton Votes')\n",
    "plt.xlabel('Monthly Average Food Stamp Program Participation [number of persons]')\n",
    "plt.ylabel('Hillary Clinton [# of votes]')\n",
    "ax.get_yaxis().set_major_formatter(plt.FuncFormatter(lambda x, loc: \"{:,}\".format(int(x))))\n",
    "ax.get_xaxis().set_major_formatter(plt.FuncFormatter(lambda x, loc: \"{:,}\".format(int(x))))"
   ]
  },
  {
   "cell_type": "markdown",
   "metadata": {},
   "source": [
    "**[Question 1]** What is this plot telling us? What kind of conclusions can we draw from this plot?"
   ]
  },
  {
   "cell_type": "markdown",
   "metadata": {},
   "source": [
    "**[Answer 1]** "
   ]
  },
  {
   "cell_type": "markdown",
   "metadata": {},
   "source": [
    "**[Question 2]** What's wrong with this plot?"
   ]
  },
  {
   "cell_type": "markdown",
   "metadata": {},
   "source": [
    "**[Answer 2]** "
   ]
  },
  {
   "cell_type": "markdown",
   "metadata": {},
   "source": [
    "**[Question 3]** How do we normalize these numbers and convert them into percentages?"
   ]
  },
  {
   "cell_type": "markdown",
   "metadata": {},
   "source": [
    "**[Answer 3]**"
   ]
  },
  {
   "cell_type": "code",
   "execution_count": null,
   "metadata": {
    "collapsed": true
   },
   "outputs": [],
   "source": []
  },
  {
   "cell_type": "markdown",
   "metadata": {},
   "source": [
    "Let's now redo the plot:"
   ]
  },
  {
   "cell_type": "code",
   "execution_count": null,
   "metadata": {
    "collapsed": false,
    "scrolled": true
   },
   "outputs": [],
   "source": [
    "fig = plt.figure()\n",
    "ax = fig.add_subplot(111)\n",
    "plt.scatter(fs_p,c_p,color=\"blue\")\n",
    "for i,j,k in zip(fs_p,c_p,state):\n",
    "    ax.annotate('%s' % k, xy=(i, j), fontsize=15, color='black')\n",
    "plt.ylim([0,1])\n",
    "plt.title('Food Stamp Program Participation vs. Hillary Clinton Votes')\n",
    "plt.xlabel('Monthly Average Food Stamp Program Participation [% of population]')\n",
    "plt.ylabel('Hillary Clinton [% of votes]')"
   ]
  },
  {
   "cell_type": "markdown",
   "metadata": {},
   "source": [
    "**[Assignment 1]** Do the same exploratory analysis for the Republican candidate."
   ]
  },
  {
   "cell_type": "markdown",
   "metadata": {
    "collapsed": true
   },
   "source": [
    "**[Solution 1]**"
   ]
  },
  {
   "cell_type": "code",
   "execution_count": null,
   "metadata": {
    "collapsed": false
   },
   "outputs": [],
   "source": [
    "fig = plt.figure()\n",
    "ax = fig.add_subplot(111)\n",
    "plt.scatter(fs_p,t_p,color=\"red\")\n",
    "for i,j,k in zip(fs_p,t_p,state):\n",
    "    ax.annotate('%s' % k, xy=(i, j), fontsize=15, color='black')\n",
    "plt.ylim([0,1])\n",
    "plt.title('Food Stamp Program Participation vs. Donald Trump Votes')\n",
    "plt.xlabel('Monthly Average Food Stamp Program Participation [% of population]')\n",
    "plt.ylabel('Donald Trump [% of votes]')"
   ]
  },
  {
   "cell_type": "markdown",
   "metadata": {},
   "source": [
    "Finally, let's do a side by side comparison of the two plots."
   ]
  },
  {
   "cell_type": "code",
   "execution_count": null,
   "metadata": {
    "collapsed": false
   },
   "outputs": [],
   "source": [
    "fig, ax = plt.subplots(1, 2, figsize=(16, 8))\n",
    "fig.suptitle(\"Food Stamp Program Participation vs. Percentage of Votes\")\n",
    "ax[0].scatter(fs_p,c_p,color=\"blue\")\n",
    "for i,j,k in zip(fs_p,c_p,state):\n",
    "    ax[0].annotate('%s' % k, xy=(i, j), fontsize=15, color='black')\n",
    "ax[0].set_xlim(left=0)\n",
    "ax[0].set_ylim([0,1])\n",
    "ax[0].set_title('Hillary Clinton ')\n",
    "ax[0].set_xlabel('Food Stamp Program [% of population]')\n",
    "ax[0].set_ylabel('Percentage of votes')\n",
    "\n",
    "\n",
    "ax[1].scatter(fs_p,t_p,color=\"red\")\n",
    "for i,j,k in zip(fs_p,t_p,state):\n",
    "    ax[1].annotate('%s' % k, xy=(i, j), fontsize=15, color='black')\n",
    "plt.ylim([0,1])\n",
    "plt.title('Donald Trump')\n",
    "plt.xlabel('Food Stamp Program [% of population]')\n",
    "plt.ylabel('Percentage of votes')"
   ]
  },
  {
   "cell_type": "code",
   "execution_count": null,
   "metadata": {
    "collapsed": false
   },
   "outputs": [],
   "source": []
  },
  {
   "cell_type": "markdown",
   "metadata": {},
   "source": [
    "**[Question 4]** Let's compare the plots between the Democratic and Republican candidates and see if we can draw some conclusions?"
   ]
  },
  {
   "cell_type": "markdown",
   "metadata": {},
   "source": [
    "**[Answer 4]** If we compare the two plots we notice a weak trend where it is more likely for states that have high perecentage of participants in the food stamp program to vote for a Democratic candidate. This is in line with previous analysis also covered in Prof. Gelman's book. On the other hand states that voted for Donald Trump don't necessarly always have a small percentage of participants in the food stamp program. Another observation is that in states such as WV that have high food stamp program participation the wining candidate is Donald Trump. "
   ]
  },
  {
   "cell_type": "markdown",
   "metadata": {},
   "source": [
    "import scipy.stats\n",
    "round(scipy.stats.pearsonr(fs_p,t_p)[0],3)"
   ]
  },
  {
   "cell_type": "markdown",
   "metadata": {},
   "source": [
    "Next, let's look into the average household income per state and visually analyze their relationship with the candidate votes."
   ]
  },
  {
   "cell_type": "code",
   "execution_count": null,
   "metadata": {
    "collapsed": false
   },
   "outputs": [],
   "source": [
    "fig = plt.figure()\n",
    "ax = fig.add_subplot(111)\n",
    "plt.scatter(income,c_p,color=\"blue\")\n",
    "for i,j,k in zip(income,c_p,state):\n",
    "    ax.annotate('%s' % k, xy=(i, j), fontsize=15, color='black')\n",
    "plt.ylim([0,1])\n",
    "plt.title('Median Annual Household Income vs. Hillary Clinton Votes')\n",
    "plt.xlabel('Median Annual Household Income [$]')\n",
    "plt.ylabel('Hillary Clinton [% of votes]')\n",
    "ax.get_xaxis().set_major_formatter(plt.FuncFormatter(lambda x, loc: \"{:,}\".format(int(x))))"
   ]
  },
  {
   "cell_type": "code",
   "execution_count": null,
   "metadata": {
    "collapsed": false
   },
   "outputs": [],
   "source": [
    "fig = plt.figure()\n",
    "ax = fig.add_subplot(111)\n",
    "plt.scatter(income,t_p,color=\"red\")\n",
    "for i,j,k in zip(income,t_p,state):\n",
    "    ax.annotate('%s' % k, xy=(i, j), fontsize=15, color='black')\n",
    "\n",
    "plt.ylim([0,1])\n",
    "plt.title('Median Annual Household Income vs. Donald Trump Votes')\n",
    "plt.xlabel('Median Annual Household Income [$]')\n",
    "plt.ylabel('Donald Trump [% of votes]')\n",
    "ax.get_xaxis().set_major_formatter(plt.FuncFormatter(lambda x, loc: \"{:,}\".format(int(x))))\n"
   ]
  },
  {
   "cell_type": "markdown",
   "metadata": {},
   "source": [
    "**[Assignment 2]** Do a side by side comparison of the two plots."
   ]
  },
  {
   "cell_type": "markdown",
   "metadata": {},
   "source": [
    "**[Solution 2]**"
   ]
  },
  {
   "cell_type": "code",
   "execution_count": null,
   "metadata": {
    "collapsed": false
   },
   "outputs": [],
   "source": [
    "fig, ax = plt.subplots(1, 2, figsize=(16, 8))\n",
    "fig.suptitle(\"Median Annual Household Income vs. Percentage of Votes\")\n",
    "ax[0].scatter(income,c_p,color=\"blue\")\n",
    "for i,j,k in zip(income,c_p,state):\n",
    "    ax[0].annotate('%s' % k, xy=(i, j), fontsize=15, color='black')\n",
    "ax[0].set_ylim([0,1])\n",
    "ax[0].set_title('Hillary Clinton')\n",
    "ax[0].set_xlabel('Median Annual Household Income [$]')\n",
    "ax[0].set_ylabel('Percentage of Votes')\n",
    "ax[0].get_xaxis().set_major_formatter(plt.FuncFormatter(lambda x, loc: \"{:,}\".format(int(x))))\n",
    "\n",
    "ax[1].scatter(income,t_p,color=\"red\")\n",
    "for i,j,k in zip(income,t_p,state):\n",
    "    ax[1].annotate('%s' % k, xy=(i, j), fontsize=15, color='black')\n",
    "\n",
    "ax[1].set_ylim([0,1])\n",
    "ax[1].set_title('Donald Trump')\n",
    "ax[1].set_xlabel('Median Annual Household Income [$]')\n",
    "ax[1].set_ylabel('Percentage of Votes')\n",
    "ax[1].get_xaxis().set_major_formatter(plt.FuncFormatter(lambda x, loc: \"{:,}\".format(int(x))))\n",
    "\n"
   ]
  },
  {
   "cell_type": "markdown",
   "metadata": {
    "collapsed": true
   },
   "source": [
    "**[Question 5]** What kind of conclusions can we draw from comparing the above two plots?"
   ]
  },
  {
   "cell_type": "markdown",
   "metadata": {},
   "source": [
    "**[Answer 5]** These plots depecit a different trend from the one observed earlier. It appears that the higher the median household income is the more likely it is that the state is going to vote for a Democratic candidate. "
   ]
  },
  {
   "cell_type": "markdown",
   "metadata": {},
   "source": [
    "**[Question 6]** What's wrong with this observation?"
   ]
  },
  {
   "cell_type": "markdown",
   "metadata": {},
   "source": [
    "**[Answer 6]** These plots were created using median household income which doesn't emphasize the income difference across the individual income classes. In fact it is well established that the higher the household income is the more likely it is that they'll vote for a Republican candidate. "
   ]
  },
  {
   "cell_type": "code",
   "execution_count": null,
   "metadata": {
    "collapsed": false
   },
   "outputs": [],
   "source": [
    "import scipy.stats\n",
    "scipy.stats.pearsonr(income,c_p)"
   ]
  },
  {
   "cell_type": "markdown",
   "metadata": {},
   "source": [
    "## NYC Open Data ##"
   ]
  },
  {
   "cell_type": "markdown",
   "metadata": {},
   "source": [
    "Next we are going to analyze two datasets from the NYC Open Data project. While the data is available through the links provided above we'll use a copy located on the bootcamp google drive folder. \n",
    "Once you download the data you should look into the collection description which explains the values stored in each data column.\n",
    "1. Street Tree Census Data\n",
    "Consult the following pdf document:  \n",
    "https://data.cityofnewyork.us/api/views/uvpi-gqnh/files/8705bfd6-993c-40c5-8620-0c81191c7e25?download=true&filename=StreetTreeCensus2015TreesDataDictionary20161102.pdf  \n",
    "\n",
    "2. NYPD Motor Vehicle Collision Data  \n",
    "Go over the column headers\n"
   ]
  },
  {
   "cell_type": "markdown",
   "metadata": {},
   "source": [
    " # 2. 2015 Street Tree Census #\n",
    " "
   ]
  },
  {
   "cell_type": "markdown",
   "metadata": {},
   "source": [
    "Given that we spent some time learning about the nature of this data. Let's now load the data:"
   ]
  },
  {
   "cell_type": "code",
   "execution_count": null,
   "metadata": {
    "collapsed": false
   },
   "outputs": [],
   "source": [
    "\n",
    "import pandas as pd\n",
    "tree_data_fn2 = './street_tree_census_data/2015_Street_Tree_Census_-_Tree_Data.tsv'\n",
    "tree_data2 = pd.read_csv(tree_data_fn2, delimiter='\\t')\n"
   ]
  },
  {
   "cell_type": "markdown",
   "metadata": {
    "collapsed": true
   },
   "source": [
    "First we'll compute basic statistics over a selected set of variables from the second tree dataset. Statitics such as:\n",
    "* mean\n",
    "* median\n",
    "* standard deviation\n",
    "* variance\n",
    "* quantiles"
   ]
  },
  {
   "cell_type": "code",
   "execution_count": null,
   "metadata": {
    "collapsed": false
   },
   "outputs": [],
   "source": [
    "import numpy as np\n",
    "size = len(tree_data2.tree_dbh)\n",
    "print (\"Size=\"+str(size))\n",
    "min_val = min(tree_data2.tree_dbh)\n",
    "print (\"Minimum value=\"+str(min_val))\n",
    "max_val = max(tree_data2.tree_dbh)\n",
    "print (\"Maximum value=\"+str(max_val))\n",
    "mean1 = np.mean(tree_data2.tree_dbh)\n",
    "print (\"Mean value=\"+str(mean1))"
   ]
  },
  {
   "cell_type": "code",
   "execution_count": null,
   "metadata": {
    "collapsed": false
   },
   "outputs": [],
   "source": [
    "median_val = np.median(tree_data2.tree_dbh)\n",
    "print (\"Median value=\"+str(median_val))"
   ]
  },
  {
   "cell_type": "code",
   "execution_count": null,
   "metadata": {
    "collapsed": false
   },
   "outputs": [],
   "source": [
    "std_val = np.std(tree_data2.tree_dbh)\n",
    "print (\"Standard Deviation=\"+str(std_val))"
   ]
  },
  {
   "cell_type": "code",
   "execution_count": null,
   "metadata": {
    "collapsed": false
   },
   "outputs": [],
   "source": [
    "var_val = np.var(tree_data2.tree_dbh)\n",
    "print (\"Variation=\"+str(var_val))"
   ]
  },
  {
   "cell_type": "code",
   "execution_count": null,
   "metadata": {
    "collapsed": false
   },
   "outputs": [],
   "source": [
    "print (np.percentile(tree_data2.tree_dbh,25))"
   ]
  },
  {
   "cell_type": "code",
   "execution_count": null,
   "metadata": {
    "collapsed": false
   },
   "outputs": [],
   "source": [
    "print (np.percentile(tree_data2.tree_dbh,50))"
   ]
  },
  {
   "cell_type": "code",
   "execution_count": null,
   "metadata": {
    "collapsed": false
   },
   "outputs": [],
   "source": [
    "print (np.percentile(tree_data2.tree_dbh,75))"
   ]
  },
  {
   "cell_type": "code",
   "execution_count": null,
   "metadata": {
    "collapsed": false
   },
   "outputs": [],
   "source": [
    "print (np.percentile(tree_data2.tree_dbh,95))"
   ]
  },
  {
   "cell_type": "markdown",
   "metadata": {},
   "source": [
    "The Pandas package has some really cool features which are worth exploring and learning about. For example the above values could be computed with a single Pandas method:"
   ]
  },
  {
   "cell_type": "code",
   "execution_count": null,
   "metadata": {
    "collapsed": false
   },
   "outputs": [],
   "source": [
    "tree_data2['tree_dbh'].describe()"
   ]
  },
  {
   "cell_type": "markdown",
   "metadata": {},
   "source": [
    "For more information on the Pandas methods see the online documentation:  \n",
    "http://pandas.pydata.org/pandas-docs/stable/  \n",
    "\n",
    "Spend some time to familiarize yourself with the data. Decide which aspects of that data you find interesting and select a set of variables that you would like to explore further or follow the example below."
   ]
  },
  {
   "cell_type": "markdown",
   "metadata": {},
   "source": [
    "### Example ###  \n",
    "\n",
    "Find out which borough has the most ammount of trees where shoes could be found in the branches:"
   ]
  },
  {
   "cell_type": "code",
   "execution_count": null,
   "metadata": {
    "collapsed": false
   },
   "outputs": [],
   "source": [
    "tree_data2['brch_shoe'].groupby(tree_data2['boroname']).describe()"
   ]
  },
  {
   "cell_type": "code",
   "execution_count": null,
   "metadata": {
    "collapsed": false
   },
   "outputs": [],
   "source": [
    "tree_data2.groupby(['boroname', 'brch_shoe']).size()"
   ]
  },
  {
   "cell_type": "markdown",
   "metadata": {
    "collapsed": true
   },
   "source": [
    "What's wrong with the output from these two methods?"
   ]
  },
  {
   "cell_type": "markdown",
   "metadata": {},
   "source": [
    "It appears that the tsv file contains entries for a borough named \"Little Neck\". Let's make sure that this is indeed the case."
   ]
  },
  {
   "cell_type": "code",
   "execution_count": null,
   "metadata": {
    "collapsed": false
   },
   "outputs": [],
   "source": [
    "tree_data2['boroname'].str.contains('Little Neck').any()\n",
    "  "
   ]
  },
  {
   "cell_type": "code",
   "execution_count": null,
   "metadata": {
    "collapsed": false
   },
   "outputs": [],
   "source": [
    "tree_data2[tree_data2['boroname']=='Little Neck']"
   ]
  },
  {
   "cell_type": "markdown",
   "metadata": {},
   "source": [
    "**[Assignment 3]** Let's compute the percentage of trees in each borough that have shoes in their branches"
   ]
  },
  {
   "cell_type": "code",
   "execution_count": null,
   "metadata": {
    "collapsed": false
   },
   "outputs": [],
   "source": [
    "boro_shoes = tree_data2[['boroname', 'brch_shoe']]\n",
    "shoes_counts = pd.value_counts(boro_shoes['boroname'])\n",
    "shoes_counts"
   ]
  },
  {
   "cell_type": "code",
   "execution_count": null,
   "metadata": {
    "collapsed": false
   },
   "outputs": [],
   "source": [
    "yes_shoes = boro_shoes[boro_shoes['brch_shoe']=='Yes']\n",
    "yes_counts = pd.value_counts(yes_shoes['boroname'])\n",
    "yes_counts"
   ]
  },
  {
   "cell_type": "code",
   "execution_count": null,
   "metadata": {
    "collapsed": false
   },
   "outputs": [],
   "source": [
    "no_shoes = boro_shoes[boro_shoes['brch_shoe']=='No']\n",
    "no_counts = pd.value_counts(no_shoes['boroname'])\n",
    "no_counts"
   ]
  },
  {
   "cell_type": "code",
   "execution_count": null,
   "metadata": {
    "collapsed": false
   },
   "outputs": [],
   "source": [
    "percentage_shoes = yes_counts/(yes_counts+no_counts)*100\n",
    "percentage_shoes"
   ]
  },
  {
   "cell_type": "markdown",
   "metadata": {},
   "source": [
    "Now that we have a better understanding of our data let's do some plotting. Let's do a bar plot of the  different types of tree species:"
   ]
  },
  {
   "cell_type": "code",
   "execution_count": null,
   "metadata": {
    "collapsed": false
   },
   "outputs": [],
   "source": [
    "species = pd.value_counts(tree_data2['spc_common'])\n",
    "species.head(50)"
   ]
  },
  {
   "cell_type": "code",
   "execution_count": null,
   "metadata": {
    "collapsed": false
   },
   "outputs": [],
   "source": [
    "fig = plt.figure()\n",
    "plot = species.plot(kind='bar')\n",
    "plt.rcParams['figure.figsize'] = (15,15)\n",
    "plt.show()\n"
   ]
  },
  {
   "cell_type": "markdown",
   "metadata": {},
   "source": [
    "Finally we'll analyze the data using boxplot. Fore each category value the box plots displays the range of variation, including the first and third quartile and the median value.  Using boxplot we'll analyze the statistics of the diameter of the tree at the breast height (tree_dbh) across the different boroughs.  "
   ]
  },
  {
   "cell_type": "code",
   "execution_count": null,
   "metadata": {
    "collapsed": false
   },
   "outputs": [],
   "source": [
    "stump_stats = tree_data2[['boroname','tree_dbh']]\n",
    "stump_stats.max()"
   ]
  },
  {
   "cell_type": "code",
   "execution_count": null,
   "metadata": {
    "collapsed": false
   },
   "outputs": [],
   "source": [
    "wrong_elem = tree_data2[tree_data2['tree_dbh']==424083]\n",
    "wrong_elem"
   ]
  },
  {
   "cell_type": "code",
   "execution_count": null,
   "metadata": {
    "collapsed": false
   },
   "outputs": [],
   "source": [
    "tree_data2[['boroname','tree_dbh']].head(44)\n"
   ]
  },
  {
   "cell_type": "code",
   "execution_count": null,
   "metadata": {
    "collapsed": false
   },
   "outputs": [],
   "source": [
    "tree_data2=tree_data2.ix[tree_data2['tree_dbh'] <424083].copy(deep=True)"
   ]
  },
  {
   "cell_type": "code",
   "execution_count": null,
   "metadata": {
    "collapsed": false
   },
   "outputs": [],
   "source": [
    "tree_data2[['boroname','tree_dbh']].head(44)"
   ]
  },
  {
   "cell_type": "code",
   "execution_count": null,
   "metadata": {
    "collapsed": false,
    "scrolled": true
   },
   "outputs": [],
   "source": [
    "diam_stat = tree_data2[['boroname','tree_dbh']]\n",
    "diam_stat.boxplot(column=\"tree_dbh\", by=\"boroname\")"
   ]
  },
  {
   "cell_type": "markdown",
   "metadata": {},
   "source": [
    "**[Question 6]** Is there a way for use to improve the comparisons between the boxplots across different boroughs? "
   ]
  },
  {
   "cell_type": "markdown",
   "metadata": {
    "collapsed": false
   },
   "source": [
    "**[Answer 6]**"
   ]
  },
  {
   "cell_type": "markdown",
   "metadata": {},
   "source": [
    "## 3. NYPD Motor Vehicle Collision Data ##"
   ]
  },
  {
   "cell_type": "markdown",
   "metadata": {
    "collapsed": true
   },
   "source": [
    "In this part of the lab session we'll spend some time in learning about and exploring the NYPD motor vehicle collision data."
   ]
  },
  {
   "cell_type": "markdown",
   "metadata": {
    "collapsed": true
   },
   "source": [
    "Let's first load the data using Pandas:"
   ]
  },
  {
   "cell_type": "code",
   "execution_count": null,
   "metadata": {
    "collapsed": false
   },
   "outputs": [],
   "source": [
    "coll_data_fn = './NYPD_Motor_Vehicle_Collisions.tsv'\n",
    "coll_data = pd.read_csv(coll_data_fn, delimiter='\\t')\n",
    "coll_data"
   ]
  },
  {
   "cell_type": "markdown",
   "metadata": {},
   "source": [
    "Take some time to go over the datasets and decide on which column/columns you would like to compute statistics over or continue with the example below. In case the data is categorical and/or doesn't contain numerical values we would need to first make the conversion by enumerating/mapping the values. Please consult the Pandas documentation on how to do that.  \n",
    "Unlike the tree census data, the NYPD vehicle collision data doesn't come with additional documentation. Therefore we need to learn about the data types in this collection from the tsv headers. "
   ]
  },
  {
   "cell_type": "code",
   "execution_count": null,
   "metadata": {
    "collapsed": false
   },
   "outputs": [],
   "source": [
    "coll_data.dtypes"
   ]
  },
  {
   "cell_type": "markdown",
   "metadata": {},
   "source": [
    "### Example ###"
   ]
  },
  {
   "cell_type": "markdown",
   "metadata": {},
   "source": [
    "Rank the NYC boroughs based on the number of cyclists killed and injured using the collision data."
   ]
  },
  {
   "cell_type": "code",
   "execution_count": null,
   "metadata": {
    "collapsed": false
   },
   "outputs": [],
   "source": [
    "coll_data['CYCLIST INJURED OR KILLED']= coll_data['NUMBER OF CYCLIST INJURED']+coll_data['NUMBER OF CYCLIST KILLED']"
   ]
  },
  {
   "cell_type": "code",
   "execution_count": null,
   "metadata": {
    "collapsed": false
   },
   "outputs": [],
   "source": [
    "cyclist_stat = coll_data[['BOROUGH', 'NUMBER OF CYCLIST INJURED','NUMBER OF CYCLIST KILLED','CYCLIST INJURED OR KILLED']]"
   ]
  },
  {
   "cell_type": "code",
   "execution_count": null,
   "metadata": {
    "collapsed": false
   },
   "outputs": [],
   "source": [
    "cyc_sum = cyclist_stat.groupby('BOROUGH').sum()\n"
   ]
  },
  {
   "cell_type": "markdown",
   "metadata": {},
   "source": [
    "**[Assignment 4]** For each borough compute the percentage of cyclists injured or killed out of the total number of injured or killed as provided in this collision dataset. Plot the results using a histogram. "
   ]
  },
  {
   "cell_type": "markdown",
   "metadata": {},
   "source": [
    "**[Solution 4]**"
   ]
  },
  {
   "cell_type": "code",
   "execution_count": null,
   "metadata": {
    "collapsed": false
   },
   "outputs": [],
   "source": [
    "coll_data['INJURED OR KILLED']= coll_data['NUMBER OF CYCLIST INJURED']+coll_data['NUMBER OF CYCLIST KILLED']+coll_data['NUMBER OF PERSONS INJURED']+coll_data['NUMBER OF PERSONS KILLED']+coll_data['NUMBER OF MOTORIST INJURED']+coll_data['NUMBER OF MOTORIST KILLED']\n",
    "collision_all = coll_data[['BOROUGH', 'INJURED OR KILLED']]\n",
    "collision_sum = collision_all.groupby('BOROUGH').sum()\n",
    "collision_sum"
   ]
  },
  {
   "cell_type": "code",
   "execution_count": null,
   "metadata": {
    "collapsed": false
   },
   "outputs": [],
   "source": [
    "percentage_cyclist = cyc_sum['CYCLIST INJURED OR KILLED']/collision_sum['INJURED OR KILLED']\n",
    "percentage_cyclist"
   ]
  },
  {
   "cell_type": "code",
   "execution_count": null,
   "metadata": {
    "collapsed": false,
    "scrolled": true
   },
   "outputs": [],
   "source": [
    "fig = plt.figure()\n",
    "percentage_cyclist.plot.barh()"
   ]
  },
  {
   "cell_type": "markdown",
   "metadata": {},
   "source": [
    "**[Assignment 5]** Compute the distribution of cyclists injured and killed across all boroughs given the total number of such incidents. "
   ]
  },
  {
   "cell_type": "markdown",
   "metadata": {},
   "source": [
    "**[Solution 5]**"
   ]
  },
  {
   "cell_type": "code",
   "execution_count": null,
   "metadata": {
    "collapsed": false
   },
   "outputs": [],
   "source": [
    "cyc_sum = cyclist_stat.groupby('BOROUGH').sum()\n",
    "borough_cyc_sum = cyc_sum.sum()\n",
    "borough_cyc_sum"
   ]
  },
  {
   "cell_type": "code",
   "execution_count": null,
   "metadata": {
    "collapsed": false
   },
   "outputs": [],
   "source": [
    "cyc_borough = cyc_sum['CYCLIST INJURED OR KILLED']/borough_cyc_sum['CYCLIST INJURED OR KILLED']\n",
    "cyc_borough"
   ]
  },
  {
   "cell_type": "code",
   "execution_count": null,
   "metadata": {
    "collapsed": false
   },
   "outputs": [],
   "source": [
    "fig = plt.figure()\n",
    "cyc_borough.plot(kind='pie',subplots='True')"
   ]
  },
  {
   "cell_type": "code",
   "execution_count": null,
   "metadata": {
    "collapsed": true
   },
   "outputs": [],
   "source": []
  }
 ],
 "metadata": {
  "anaconda-cloud": {},
  "kernelspec": {
   "display_name": "Python 2",
   "language": "python",
   "name": "python2"
  },
  "language_info": {
   "codemirror_mode": {
    "name": "ipython",
    "version": 2
   },
   "file_extension": ".py",
   "mimetype": "text/x-python",
   "name": "python",
   "nbconvert_exporter": "python",
   "pygments_lexer": "ipython2",
   "version": "2.7.12"
  }
 },
 "nbformat": 4,
 "nbformat_minor": 0
}
