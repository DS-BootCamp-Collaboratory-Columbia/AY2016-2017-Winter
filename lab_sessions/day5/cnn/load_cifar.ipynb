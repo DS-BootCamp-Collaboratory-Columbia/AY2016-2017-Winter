{
 "cells": [
  {
   "cell_type": "markdown",
   "metadata": {},
   "source": [
    "# Loading the CIFAR-10 dataset\n",
    "\n",
    "First, download the data [from this link](https://www.cs.toronto.edu/~kriz/cifar-10-python.tar.gz).\n",
    "\n",
    "Then, you may use the code below."
   ]
  },
  {
   "cell_type": "code",
   "execution_count": null,
   "metadata": {
    "collapsed": true
   },
   "outputs": [],
   "source": [
    "import tensorflow as tf\n",
    "import os, struct\n",
    "import numpy as np\n",
    "import matplotlib.pyplot as plt\n",
    "import pickle\n",
    "%matplotlib notebook"
   ]
  },
  {
   "cell_type": "markdown",
   "metadata": {},
   "source": [
    "**Load the data**"
   ]
  },
  {
   "cell_type": "code",
   "execution_count": null,
   "metadata": {
    "collapsed": false
   },
   "outputs": [],
   "source": [
    "def unpickle(file_path):\n",
    "    with open(file_path, mode='rb') as fo:\n",
    "        datadict = pickle.load(fo, encoding='bytes')\n",
    "        return datadict\n",
    "\n",
    "def load_data_cifar(path='.', test_percentage=0.8):\n",
    "    # Load training data\n",
    "    X_train = None\n",
    "    Y_train = None\n",
    "    for i in range(5):\n",
    "        filepath = path+'/cifar-10-batches-py/data_batch_'+str(i+1)\n",
    "        dict_i = unpickle(filepath)\n",
    "        \n",
    "        if X_train is not None:\n",
    "            X_train = np.vstack( (X_train, dict_i[b'data'].astype(np.float32)) )\n",
    "            Y_train = np.hstack( (Y_train, np.array(dict_i[b'labels']).astype(np.int32)) )\n",
    "        else:\n",
    "            X_train = dict_i[b'data'].astype(np.float32)\n",
    "            Y_train = np.array(dict_i[b'labels']).astype(np.int32)\n",
    "    Y_train = Y_train[:,None]\n",
    "    \n",
    "    # Load initial testing data\n",
    "    filepath = path+'/cifar-10-batches-py/test_batch'\n",
    "    dict_i = unpickle(filepath)\n",
    "    X_test_ini = dict_i[b'data'].astype(np.float32)\n",
    "    Y_test_ini = np.array(dict_i[b'labels']).astype(np.int32)\n",
    "    \n",
    "    # Split the test set into test/validation\n",
    "    Ntest_ini = X_test_ini.shape[0]\n",
    "    perm = np.random.permutation(Ntest_ini)\n",
    "    n_test_cases = int(test_percentage*Ntest_ini)\n",
    "    # test dataset\n",
    "    X_test = X_test_ini[perm[:n_test_cases],:]\n",
    "    Y_test = Y_test_ini[perm[:n_test_cases],None]\n",
    "    # validation dataset\n",
    "    X_val = X_test_ini[perm[n_test_cases:],:]\n",
    "    Y_val = Y_test_ini[perm[n_test_cases:],None]\n",
    "    \n",
    "    # Load the label names\n",
    "    filepath = path+'/cifar-10-batches-py/batches.meta'\n",
    "    dict_i = unpickle(filepath)\n",
    "    label_names = dict_i[b'label_names']\n",
    "    \n",
    "    return X_train, Y_train, X_test, Y_test, X_val, Y_val, label_names"
   ]
  },
  {
   "cell_type": "code",
   "execution_count": null,
   "metadata": {
    "collapsed": true
   },
   "outputs": [],
   "source": [
    "X_train, Y_train, X_test, Y_test, X_val, Y_val, label_names = load_data_cifar(path='.')\n",
    "print(\"Shape of X_train: \",X_train.shape)\n",
    "print(\"Shape of Y_train: \",Y_train.shape)\n",
    "print(\"Shape of X_test: \",X_test.shape)\n",
    "print(\"Shape of Y_test: \",Y_test.shape)\n",
    "print(\"Shape of X_val: \",X_val.shape)\n",
    "print(\"Shape of Y_val: \",X_val.shape)"
   ]
  },
  {
   "cell_type": "markdown",
   "metadata": {},
   "source": [
    "**Auxiliary plotting function**"
   ]
  },
  {
   "cell_type": "code",
   "execution_count": null,
   "metadata": {
    "collapsed": true
   },
   "outputs": [],
   "source": [
    "def plot_image_cifar(x_row):\n",
    "    aux = x_row.reshape([3, 32, 32])/256.\n",
    "    \n",
    "    plt.figure(figsize = (1,1))\n",
    "    plt.imshow(np.swapaxes(np.swapaxes(aux,0,2),0,1))\n",
    "    plt.xlabel('')\n",
    "    plt.axis('off')\n",
    "    plt.show()"
   ]
  },
  {
   "cell_type": "code",
   "execution_count": null,
   "metadata": {
    "collapsed": false
   },
   "outputs": [],
   "source": [
    "# Here, we print image \"0\"\n",
    "plot_image_cifar(X_train[0,:])"
   ]
  }
 ],
 "metadata": {
  "anaconda-cloud": {},
  "kernelspec": {
   "display_name": "Python [conda root]",
   "language": "python",
   "name": "conda-root-py"
  },
  "language_info": {
   "codemirror_mode": {
    "name": "ipython",
    "version": 3
   },
   "file_extension": ".py",
   "mimetype": "text/x-python",
   "name": "python",
   "nbconvert_exporter": "python",
   "pygments_lexer": "ipython3",
   "version": "3.5.2"
  }
 },
 "nbformat": 4,
 "nbformat_minor": 1
}
