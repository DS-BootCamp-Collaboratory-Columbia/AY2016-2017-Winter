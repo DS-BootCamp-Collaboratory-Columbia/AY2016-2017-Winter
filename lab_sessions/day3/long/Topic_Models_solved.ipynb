{
 "cells": [
  {
   "cell_type": "markdown",
   "metadata": {},
   "source": [
    "# Topic Modeling of the New York Times\n",
    "\n",
    "We will use a subset of articles from the New York Times dataset (downloaded from https://archive.ics.uci.edu/ml/datasets/Bag+of+Words).\n",
    "\n",
    "## Load the Data\n",
    "\n",
    "We will load the data into the variable `nytimes` using the following piece of code:"
   ]
  },
  {
   "cell_type": "code",
   "execution_count": null,
   "metadata": {
    "collapsed": false
   },
   "outputs": [],
   "source": [
    "import gensim\n",
    "import numpy as np\n",
    "import collections\n",
    "import matplotlib.pyplot as plt\n",
    "%matplotlib notebook\n",
    "\n",
    "nytimes = []\n",
    "with open('nytimes_30000docs.txt') as inputfile:\n",
    "    for line in inputfile:\n",
    "        nytimes.append(line.lower().split())"
   ]
  },
  {
   "cell_type": "markdown",
   "metadata": {},
   "source": [
    "## Preprocess the Data\n",
    "\n",
    "The dataset has already been preprocessed to remove punctuation and stop words. It contains one document per line, and words within documents have been ordered alphabetically (this doesn't affect the bag-of-words representation).\n",
    "\n",
    "### Remove high and low-frequency words\n",
    "\n",
    "**[Task]** Use the cell below to remove the words that appear less than 5 times in the corpus and also remove the 25 most common words in the corpus."
   ]
  },
  {
   "cell_type": "code",
   "execution_count": null,
   "metadata": {
    "collapsed": false
   },
   "outputs": [],
   "source": [
    "# obtain the frequency of each word\n",
    "frequency = collections.defaultdict(int)\n",
    "for doc in nytimes:\n",
    "    for token in doc:\n",
    "        frequency[token] += 1\n",
    "\n",
    "# obtain the frequency of the words as a numpy array\n",
    "n_most_common = 25\n",
    "np_freq = np.zeros(len(frequency))\n",
    "count = 0\n",
    "for token in frequency:\n",
    "    np_freq[count] = frequency[token]\n",
    "    count += 1\n",
    "# sort the frequencies\n",
    "np_freq_sorted = np.sort(np_freq)\n",
    "# obtain the maximum allowed frequency\n",
    "max_freq = np_freq_sorted[-n_most_common]\n",
    "\n",
    "# remove words that appear only once or more than M times\n",
    "doc_noLowFreq = [[token for token in text if frequency[token] > 1 and frequency[token]<max_freq]\n",
    "                  for text in nytimes]"
   ]
  },
  {
   "cell_type": "markdown",
   "metadata": {},
   "source": [
    "### Create the dictionary\n",
    "\n",
    "**[Task]** Create the dictionary in the cell below."
   ]
  },
  {
   "cell_type": "code",
   "execution_count": null,
   "metadata": {
    "collapsed": false
   },
   "outputs": [],
   "source": [
    "# Create the dictionary\n",
    "dictionary = gensim.corpora.Dictionary(doc_noLowFreq)"
   ]
  },
  {
   "cell_type": "markdown",
   "metadata": {},
   "source": [
    "### Create the bag-of-words representation\n",
    "\n",
    "**[Task]** Use the cell below to obtain the bag-of-words representation."
   ]
  },
  {
   "cell_type": "code",
   "execution_count": null,
   "metadata": {
    "collapsed": true
   },
   "outputs": [],
   "source": [
    "corpus = [dictionary.doc2bow(doc) for doc in doc_noLowFreq]"
   ]
  },
  {
   "cell_type": "markdown",
   "metadata": {},
   "source": [
    "## Train LDA\n",
    "\n",
    "**[Tasks]**\n",
    "\n",
    "1. Fit an LDA model with `num_topics=100` to the NYT dataset.\n",
    "\n",
    "2. Plot the dominant topics using the function `print_topics(num_topics=20, num_words=10)`. Read the words in some of the topics. Does the result make sense? Can you think of a \"title\" that summarizes each topic?\n",
    "\n",
    "3. Go to the New York Times website. Choose a section and find an article in that section. Copy the article (document) into a single line and remove punctuation marks. In the ipython notebook, obtain the topic proportions that this article (document) exhibits, and plot a bar chart with these proportions. Show the top 10 words of the top 2 topics of that article using the function `print_topic(topicno)`.\n",
    "\n",
    "**[Warning]** Fitting LDA to this dataset on a laptop may take 2-3 minutes, so be patient. However, if it takes longer than 5 minutes, you may use the dataset with 5000 documents instead of the dataset with 30000 documents. Just replace the corresponding line on the initial cell of the notebook."
   ]
  },
  {
   "cell_type": "code",
   "execution_count": null,
   "metadata": {
    "collapsed": false
   },
   "outputs": [],
   "source": [
    "model = gensim.models.LdaModel(corpus, id2word=dictionary, num_topics=100)"
   ]
  },
  {
   "cell_type": "code",
   "execution_count": null,
   "metadata": {
    "collapsed": false
   },
   "outputs": [],
   "source": [
    "model.print_topics(num_topics=20, num_words=10)"
   ]
  },
  {
   "cell_type": "code",
   "execution_count": null,
   "metadata": {
    "collapsed": false
   },
   "outputs": [],
   "source": [
    "new_doc = 'when babies have an acute ear infection they tug at their ears get cranky and struggle to sleep through the night ear infections are the most common reason doctors prescribe antibiotics to children because of the growing threat of drug-resistant bacteria many physicians had hoped that a shorter course of antibiotics would be as effective as the standard 10 days of treatment for babies If five days did the trick parents would benefit too It would cost less and the inconsolable infant would be back to her old self and to day care more quickly with possibly fewer days of nasty side effects, like diarrhea But a trial published in The New England Journal of Medicine on Wednesday dashed those hopes Our intuition was that shorter courses would likely be as effective and lead to less antibiotic resistance but neither of those proved to be the case said Dr Donald H Arnold an associate professor of pediatrics and emergency medicine at Vanderbilt University School of Medicine Ear infections are often caused by bacteria but some are caused by viruses and should not be treated with antibiotics Babies with a middle-ear infection known as acute otitis media have pain an eardrum that is at least moderately protruding and other symptoms The new study included 520 babies 6 to 23 months old the age group most prone to middle-ear infections By their first birthday almost half of infants will have had one'\n",
    "# Lower-case the article\n",
    "new_doc = new_doc.lower()\n",
    "# Remove punctuation marks (if needed)\n",
    "import string\n",
    "exclude = set(string.punctuation)\n",
    "new_doc_noPunct = str([''.join(ch for ch in new_doc if ch not in exclude)])\n",
    "\n",
    "# Find the topic proportions for this article\n",
    "new_doc_topics = model[dictionary.doc2bow(new_doc_noPunct.split())]\n",
    "print(new_doc_topics)"
   ]
  },
  {
   "cell_type": "code",
   "execution_count": null,
   "metadata": {
    "collapsed": false
   },
   "outputs": [],
   "source": [
    "# Plot the bar chart\n",
    "aux = np.zeros(100)\n",
    "for k, val in new_doc_topics:\n",
    "    aux[k] = val\n",
    "\n",
    "plt.bar(np.arange(100), aux)"
   ]
  },
  {
   "cell_type": "code",
   "execution_count": null,
   "metadata": {
    "collapsed": false
   },
   "outputs": [],
   "source": [
    "model.print_topic(94)  # <-- replace these with the 2 topics of highest proportion"
   ]
  },
  {
   "cell_type": "code",
   "execution_count": null,
   "metadata": {
    "collapsed": false
   },
   "outputs": [],
   "source": [
    "model.print_topic(70) # <-- replace these with the 2 topics of highest proportion"
   ]
  }
 ],
 "metadata": {
  "anaconda-cloud": {},
  "kernelspec": {
   "display_name": "Python [default]",
   "language": "python",
   "name": "python3"
  },
  "language_info": {
   "codemirror_mode": {
    "name": "ipython",
    "version": 3
   },
   "file_extension": ".py",
   "mimetype": "text/x-python",
   "name": "python",
   "nbconvert_exporter": "python",
   "pygments_lexer": "ipython3",
   "version": "3.5.2"
  }
 },
 "nbformat": 4,
 "nbformat_minor": 1
}
